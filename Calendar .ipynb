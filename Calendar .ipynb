{
 "cells": [
  {
   "cell_type": "markdown",
   "id": "a749edb9",
   "metadata": {},
   "source": [
    "<h3> Print a Calendar"
   ]
  },
  {
   "cell_type": "code",
   "execution_count": 1,
   "id": "c9fd277b",
   "metadata": {},
   "outputs": [
    {
     "name": "stdout",
     "output_type": "stream",
     "text": [
      "   September 2022\n",
      "Mo Tu We Th Fr Sa Su\n",
      "          1  2  3  4\n",
      " 5  6  7  8  9 10 11\n",
      "12 13 14 15 16 17 18\n",
      "19 20 21 22 23 24 25\n",
      "26 27 28 29 30\n",
      "\n"
     ]
    }
   ],
   "source": [
    "import calendar as m\n",
    "yr=2022\n",
    "mon=9\n",
    "print(m.month(yr,mon))"
   ]
  },
  {
   "cell_type": "markdown",
   "id": "48a34053",
   "metadata": {},
   "source": [
    "<h3> Write a python program to find if your year is a leap year or not?"
   ]
  },
  {
   "cell_type": "code",
   "execution_count": 2,
   "id": "beac6398",
   "metadata": {},
   "outputs": [
    {
     "name": "stdout",
     "output_type": "stream",
     "text": [
      "enter your year= 2004\n",
      "Your year is a LEAP YEAR \n"
     ]
    }
   ],
   "source": [
    "year=int(input(\"enter your year= \"))\n",
    "if (year%400==0) and (year%100==0):\n",
    "    print(\"Your year is a LEAP YEAR \")\n",
    "    \n",
    "elif (year%4==0)and (year%100!=0):\n",
    "    print(\"Your year is a LEAP YEAR \")\n",
    "    \n",
    "else:\n",
    "    print(\"Your year is not a LEAP YEAR\")"
   ]
  }
 ],
 "metadata": {
  "kernelspec": {
   "display_name": "Python 3 (ipykernel)",
   "language": "python",
   "name": "python3"
  },
  "language_info": {
   "codemirror_mode": {
    "name": "ipython",
    "version": 3
   },
   "file_extension": ".py",
   "mimetype": "text/x-python",
   "name": "python",
   "nbconvert_exporter": "python",
   "pygments_lexer": "ipython3",
   "version": "3.9.12"
  }
 },
 "nbformat": 4,
 "nbformat_minor": 5
}

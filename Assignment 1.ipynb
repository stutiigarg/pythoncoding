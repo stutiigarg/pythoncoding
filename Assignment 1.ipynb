{
 "cells": [
  {
   "cell_type": "markdown",
   "id": "13e03fcd",
   "metadata": {},
   "source": [
    "<h4>WRITE A PYTHON PROGRAM TO FIND THE AREA OF A TRIANGLE?"
   ]
  },
  {
   "cell_type": "code",
   "execution_count": 2,
   "id": "0fdb8b3b",
   "metadata": {},
   "outputs": [
    {
     "name": "stdout",
     "output_type": "stream",
     "text": [
      "Enter breath no = 4\n",
      "Enter height no = 6\n",
      "12.0\n"
     ]
    }
   ],
   "source": [
    "a=int(input(\"Enter breath no = \"))\n",
    "b=int(input(\"Enter height no = \"))\n",
    "#c=1/2*a*b\n",
    "print((1/2)*(a*b))"
   ]
  },
  {
   "cell_type": "markdown",
   "id": "b804823e",
   "metadata": {},
   "source": [
    "<h4>WRITE A PYTHON PROGRAM TO CHECK IF A NUMBER IS POSITIVE, NEGATIVE  OR ZERO?"
   ]
  },
  {
   "cell_type": "code",
   "execution_count": 3,
   "id": "5b741d90",
   "metadata": {},
   "outputs": [
    {
     "name": "stdout",
     "output_type": "stream",
     "text": [
      "Enter your no = -8\n",
      "Your number is negative\n"
     ]
    }
   ],
   "source": [
    "a=float(input(\"Enter your no = \"))\n",
    "if a<0:\n",
    "    print(\"Your number is negative\")\n",
    "elif a==0:\n",
    "    print(\"Your number is zero\")\n",
    "else:\n",
    "    print(\"Your number is positive\")"
   ]
  },
  {
   "cell_type": "markdown",
   "id": "53dddc79",
   "metadata": {},
   "source": [
    "<h4>WRITE A PYTHON PROGRAM TO CHECK IF A NUMBER IS ODD OR EVEN?"
   ]
  },
  {
   "cell_type": "code",
   "execution_count": 4,
   "id": "f0be170a",
   "metadata": {},
   "outputs": [
    {
     "name": "stdout",
     "output_type": "stream",
     "text": [
      "Enter your no = 7\n",
      "Your number is ODD\n"
     ]
    }
   ],
   "source": [
    "a=int(input(\"Enter your no = \"))\n",
    "if a%2==0:\n",
    "    print(\"Your number is EVEN \")\n",
    "else:\n",
    "    print(\"Your number is ODD\")"
   ]
  },
  {
   "cell_type": "markdown",
   "id": "51af73a9",
   "metadata": {},
   "source": [
    "<h4> WRITE A PYTHON PROGRAM TO CHECK PRIME NO?"
   ]
  },
  {
   "cell_type": "code",
   "execution_count": 5,
   "id": "dce90fc3",
   "metadata": {},
   "outputs": [
    {
     "name": "stdout",
     "output_type": "stream",
     "text": [
      "Enter your no = 3\n",
      "Your number is a PRIME NUMBER\n"
     ]
    }
   ],
   "source": [
    "no=int(input(\"Enter your no = \"))\n",
    "if (no%1==0) and (no%no==0):\n",
    "    print(\"Your number is a PRIME NUMBER\")\n",
    "else:\n",
    "    print(\"Your number is a COMPOSITE NUMBER\")"
   ]
  }
 ],
 "metadata": {
  "kernelspec": {
   "display_name": "Python 3 (ipykernel)",
   "language": "python",
   "name": "python3"
  },
  "language_info": {
   "codemirror_mode": {
    "name": "ipython",
    "version": 3
   },
   "file_extension": ".py",
   "mimetype": "text/x-python",
   "name": "python",
   "nbconvert_exporter": "python",
   "pygments_lexer": "ipython3",
   "version": "3.9.12"
  }
 },
 "nbformat": 4,
 "nbformat_minor": 5
}

{
 "cells": [
  {
   "cell_type": "markdown",
   "id": "59ec5b47",
   "metadata": {},
   "source": [
    "<h4> BASIC CALCULATOR"
   ]
  },
  {
   "cell_type": "code",
   "execution_count": 1,
   "id": "814c08f3",
   "metadata": {},
   "outputs": [
    {
     "name": "stdout",
     "output_type": "stream",
     "text": [
      "enter your choice\n",
      "1 for add\n",
      "2 for subtract\n",
      "3 for divide\n",
      "4 for multiply\n",
      "enter the choice1\n",
      "enter first no2\n",
      "enter second no3\n",
      "2 + 3 = 5\n",
      "None\n"
     ]
    }
   ],
   "source": [
    "def add(x,y):\n",
    "    print(x,\"+\",y,'=', x+y)\n",
    "def sub(x,y):\n",
    "    print(x,\"-\",y,'=', x-y)\n",
    "def div(x,y):\n",
    "    print(x,\"/\",y,'=', x/y)\n",
    "def mul(x,y):\n",
    "    print(x,\"*\",y,'=', x*y)\n",
    "print(\"enter your choice\")\n",
    "print(\"1 for add\")\n",
    "print(\"2 for subtract\")\n",
    "print(\"3 for divide\")\n",
    "print(\"4 for multiply\")\n",
    "\n",
    "i=input(\"enter the choice\")\n",
    "\n",
    "if i in(\"1\",\"2\",\"3\",\"4\"):\n",
    "    x=int(input(\"enter first no\"))\n",
    "    y=int(input(\"enter second no\"))\n",
    "    \n",
    "    if i==\"1\":\n",
    "        print(add(x,y))\n",
    "    elif i==\"2\":\n",
    "        print( sub(x,y))\n",
    "    elif i==\"3\":\n",
    "        print( div(x,y))\n",
    "    else:\n",
    "        print( mul(x,y))\n",
    "\n"
   ]
  },
  {
   "cell_type": "markdown",
   "id": "d2daa523",
   "metadata": {},
   "source": [
    "<h4>"
   ]
  },
  {
   "cell_type": "code",
   "execution_count": null,
   "id": "7503e57f",
   "metadata": {},
   "outputs": [],
   "source": []
  },
  {
   "cell_type": "code",
   "execution_count": null,
   "id": "5dc73b5c",
   "metadata": {},
   "outputs": [],
   "source": []
  }
 ],
 "metadata": {
  "kernelspec": {
   "display_name": "Python 3 (ipykernel)",
   "language": "python",
   "name": "python3"
  },
  "language_info": {
   "codemirror_mode": {
    "name": "ipython",
    "version": 3
   },
   "file_extension": ".py",
   "mimetype": "text/x-python",
   "name": "python",
   "nbconvert_exporter": "python",
   "pygments_lexer": "ipython3",
   "version": "3.9.12"
  }
 },
 "nbformat": 4,
 "nbformat_minor": 5
}

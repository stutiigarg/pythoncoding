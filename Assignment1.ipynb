{
 "cells": [
  {
   "cell_type": "markdown",
   "id": "13e03fcd",
   "metadata": {},
   "source": [
    "<h4>WRITE A PYTHON PROGRAM TO FIND THE AREA OF A TRIANGLE?"
   ]
  },
  {
   "cell_type": "code",
   "execution_count": 11,
   "id": "0fdb8b3b",
   "metadata": {},
   "outputs": [
    {
     "name": "stdout",
     "output_type": "stream",
     "text": [
      "enter breath no10\n",
      "enter height no5\n",
      "25.0\n"
     ]
    }
   ],
   "source": [
    "a=int(input(\"enter breath no\"))\n",
    "b=int(input(\"enter height no\"))\n",
    "#c=1/2*a*b\n",
    "print((1/2)*(a*b))"
   ]
  },
  {
   "cell_type": "markdown",
   "id": "450338c2",
   "metadata": {},
   "source": [
    "<h4>PRINTING CALENDER?"
   ]
  },
  {
   "cell_type": "code",
   "execution_count": 5,
   "id": "6110c390",
   "metadata": {},
   "outputs": [
    {
     "name": "stdout",
     "output_type": "stream",
     "text": [
      "   September 2022\n",
      "Mo Tu We Th Fr Sa Su\n",
      "          1  2  3  4\n",
      " 5  6  7  8  9 10 11\n",
      "12 13 14 15 16 17 18\n",
      "19 20 21 22 23 24 25\n",
      "26 27 28 29 30\n",
      "\n"
     ]
    }
   ],
   "source": [
    "import calendar as m\n",
    "yr=2022\n",
    "mon=9\n",
    "print(m.month(yr,mon))"
   ]
  },
  {
   "cell_type": "markdown",
   "id": "b804823e",
   "metadata": {},
   "source": [
    "<h4>WRITE A PYTHON PROGRAM TO CHECK IF A NUMBER IS POSITIVE, NEGATIVE  OR ZERO?"
   ]
  },
  {
   "cell_type": "code",
   "execution_count": 9,
   "id": "5b741d90",
   "metadata": {},
   "outputs": [
    {
     "name": "stdout",
     "output_type": "stream",
     "text": [
      "enter your no= -5\n",
      "no is negative\n"
     ]
    }
   ],
   "source": [
    "a=float(input(\"enter your no= \"))\n",
    "if a<0:\n",
    "    print(\"no is negative\")\n",
    "elif a==0:\n",
    "    print(\"no is zero\")\n",
    "else:\n",
    "    print(\"no is positive\")"
   ]
  },
  {
   "cell_type": "markdown",
   "id": "53dddc79",
   "metadata": {},
   "source": [
    "<h4>WRITE A PYTHON PROGRAM TO CHECK IF A NUMBER IS ODD OR EVEN?"
   ]
  },
  {
   "cell_type": "code",
   "execution_count": 3,
   "id": "f0be170a",
   "metadata": {},
   "outputs": [
    {
     "name": "stdout",
     "output_type": "stream",
     "text": [
      "enter your no= 87\n",
      "Your number is ODD\n"
     ]
    }
   ],
   "source": [
    "a=int(input(\"enter your no= \"))\n",
    "if a%2==0:\n",
    "    print(\"Your number is EVEN \")\n",
    "else:\n",
    "    print(\"Your number is ODD\")"
   ]
  },
  {
   "cell_type": "markdown",
   "id": "5b39077a",
   "metadata": {},
   "source": [
    "<h4>WRITE A PYTHON PROGRAM TO CHECK LEAP YEAR?"
   ]
  },
  {
   "cell_type": "code",
   "execution_count": 2,
   "id": "53daa562",
   "metadata": {
    "scrolled": true
   },
   "outputs": [
    {
     "name": "stdout",
     "output_type": "stream",
     "text": [
      "enter your year= 265\n",
      "Your year is not a LEAP YEAR\n"
     ]
    }
   ],
   "source": [
    "year=int(input(\"enter your year= \"))\n",
    "if (year%400==0) and (year%100==0):\n",
    "    print(\"Your year is a LEAP YEAR \")\n",
    "    \n",
    "elif (year%4==0)and (year%100!=0):\n",
    "    print(\"Your year is a LEAP YEAR \")\n",
    "    \n",
    "else:\n",
    "    print(\"Your year is not a LEAP YEAR\")\n",
    "    "
   ]
  },
  {
   "cell_type": "markdown",
   "id": "51af73a9",
   "metadata": {},
   "source": [
    "<h4> WRITE A PYTHON PROGRAM TO CHECK PRIME NO?"
   ]
  },
  {
   "cell_type": "code",
   "execution_count": 5,
   "id": "dce90fc3",
   "metadata": {},
   "outputs": [
    {
     "name": "stdout",
     "output_type": "stream",
     "text": [
      "enter your no= 6\n",
      "Your number is a prime number\n"
     ]
    }
   ],
   "source": [
    "no=int(input(\"enter your no= \"))\n",
    "if (no%1==0) and (no%no==0):\n",
    "    print(\"Your number is a prime number\")\n",
    "else:\n",
    "    print(\"Your number is a composite number\")"
   ]
  },
  {
   "cell_type": "code",
   "execution_count": null,
   "id": "84050f9c",
   "metadata": {},
   "outputs": [],
   "source": []
  }
 ],
 "metadata": {
  "kernelspec": {
   "display_name": "Python 3 (ipykernel)",
   "language": "python",
   "name": "python3"
  },
  "language_info": {
   "codemirror_mode": {
    "name": "ipython",
    "version": 3
   },
   "file_extension": ".py",
   "mimetype": "text/x-python",
   "name": "python",
   "nbconvert_exporter": "python",
   "pygments_lexer": "ipython3",
   "version": "3.9.12"
  }
 },
 "nbformat": 4,
 "nbformat_minor": 5
}

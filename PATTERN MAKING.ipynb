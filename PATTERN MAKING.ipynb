{
 "cells": [
  {
   "cell_type": "markdown",
   "id": "8c526ef4",
   "metadata": {},
   "source": [
    "<h3> WRITE A PYTHON PROGRAM TO PRINT A PATTERN"
   ]
  },
  {
   "cell_type": "markdown",
   "id": "a7404bae",
   "metadata": {},
   "source": [
    "<h5> Prining a pattern for range 5"
   ]
  },
  {
   "cell_type": "code",
   "execution_count": 13,
   "id": "b48f5326",
   "metadata": {},
   "outputs": [
    {
     "name": "stdout",
     "output_type": "stream",
     "text": [
      "\n",
      "* \n",
      "* * \n",
      "* * * \n",
      "* * * * \n"
     ]
    }
   ],
   "source": [
    "for i in range(5):\n",
    "    \n",
    "    for j in range(i,i+1):\n",
    "        if j<=i:\n",
    "            print('* '*j)\n",
    "           # print('\\n')"
   ]
  },
  {
   "cell_type": "markdown",
   "id": "404befac",
   "metadata": {},
   "source": [
    "<h5> Prining a pattern for range 15"
   ]
  },
  {
   "cell_type": "code",
   "execution_count": 12,
   "id": "85bc40a7",
   "metadata": {},
   "outputs": [
    {
     "name": "stdout",
     "output_type": "stream",
     "text": [
      "\n",
      "* \n",
      "* * \n",
      "* * * \n",
      "* * * * \n",
      "* * * * * \n",
      "* * * * * * \n",
      "* * * * * * * \n",
      "* * * * * * * * \n",
      "* * * * * * * * * \n",
      "* * * * * * * * * * \n",
      "* * * * * * * * * * * \n",
      "* * * * * * * * * * * * \n",
      "* * * * * * * * * * * * * \n",
      "* * * * * * * * * * * * * * \n"
     ]
    }
   ],
   "source": [
    "for i in range(15):\n",
    "    \n",
    "    for j in range(i,i+1):\n",
    "        if j<=i:\n",
    "            print('* '*j)\n",
    "           # print('\\n')"
   ]
  },
  {
   "cell_type": "markdown",
   "id": "aa899c03",
   "metadata": {},
   "source": [
    "<h5> Prining a pattern for range 25"
   ]
  },
  {
   "cell_type": "code",
   "execution_count": 8,
   "id": "cdb365b1",
   "metadata": {},
   "outputs": [
    {
     "name": "stdout",
     "output_type": "stream",
     "text": [
      "\n",
      "* \n",
      "* * \n",
      "* * * \n",
      "* * * * \n",
      "* * * * * \n",
      "* * * * * * \n",
      "* * * * * * * \n",
      "* * * * * * * * \n",
      "* * * * * * * * * \n",
      "* * * * * * * * * * \n",
      "* * * * * * * * * * * \n",
      "* * * * * * * * * * * * \n",
      "* * * * * * * * * * * * * \n",
      "* * * * * * * * * * * * * * \n",
      "* * * * * * * * * * * * * * * \n",
      "* * * * * * * * * * * * * * * * \n",
      "* * * * * * * * * * * * * * * * * \n",
      "* * * * * * * * * * * * * * * * * * \n",
      "* * * * * * * * * * * * * * * * * * * \n",
      "* * * * * * * * * * * * * * * * * * * * \n",
      "* * * * * * * * * * * * * * * * * * * * * \n",
      "* * * * * * * * * * * * * * * * * * * * * * \n",
      "* * * * * * * * * * * * * * * * * * * * * * * \n",
      "* * * * * * * * * * * * * * * * * * * * * * * * \n"
     ]
    }
   ],
   "source": [
    "for i in range(25):\n",
    "    \n",
    "    for j in range(i,i+1):\n",
    "        if j<=i:\n",
    "            print('* '*j)\n",
    "           # print('\\n')"
   ]
  }
 ],
 "metadata": {
  "kernelspec": {
   "display_name": "Python 3 (ipykernel)",
   "language": "python",
   "name": "python3"
  },
  "language_info": {
   "codemirror_mode": {
    "name": "ipython",
    "version": 3
   },
   "file_extension": ".py",
   "mimetype": "text/x-python",
   "name": "python",
   "nbconvert_exporter": "python",
   "pygments_lexer": "ipython3",
   "version": "3.9.12"
  }
 },
 "nbformat": 4,
 "nbformat_minor": 5
}
